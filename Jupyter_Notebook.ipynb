{
  "metadata": {
    "kernelspec": {
      "name": "python",
      "display_name": "Pyolite",
      "language": "python"
    },
    "language_info": {
      "codemirror_mode": {
        "name": "python",
        "version": 3
      },
      "file_extension": ".py",
      "mimetype": "text/x-python",
      "name": "python",
      "nbconvert_exporter": "python",
      "pygments_lexer": "ipython3",
      "version": "3.8"
    }
  },
  "nbformat_minor": 4,
  "nbformat": 4,
  "cells": [
    {
      "cell_type": "markdown",
      "source": "# My Jupyter Notebook on IBM Watson Studio",
      "metadata": {}
    },
    {
      "cell_type": "markdown",
      "source": "<b>Venkata Konda Reddy</b><br>\nMy desired occupation is to work as a data scientist",
      "metadata": {}
    },
    {
      "cell_type": "markdown",
      "source": "<i>I am intrested in data science because of the knowledge and experience we get from vast amount of data and machine learning techniques</i>",
      "metadata": {}
    },
    {
      "cell_type": "markdown",
      "source": "### Below code gives the sum of 2 numbers",
      "metadata": {}
    },
    {
      "cell_type": "code",
      "source": "a=2\nb=7\nc=a+b\nprint(c)",
      "metadata": {
        "trusted": true
      },
      "execution_count": 2,
      "outputs": [
        {
          "name": "stdout",
          "text": "9\n",
          "output_type": "stream"
        }
      ]
    },
    {
      "cell_type": "markdown",
      "source": "|coloumn0|coloumn1|coloumn2|\n|----|----|----|\n|r1|a1|b1|\n|r2|a2|b2\n\n1. ol1\n2. ol2\n3. ol3\n\n- ul1\n- ul2\n- ul3 \n<br>\n<a href=www.google.com>hyperlink</a>",
      "metadata": {}
    },
    {
      "cell_type": "code",
      "source": "",
      "metadata": {},
      "execution_count": null,
      "outputs": []
    }
  ]
}